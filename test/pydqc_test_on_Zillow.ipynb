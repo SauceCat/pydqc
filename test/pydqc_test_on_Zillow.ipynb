{
 "cells": [
  {
   "cell_type": "code",
   "execution_count": null,
   "metadata": {},
   "outputs": [],
   "source": [
    "import pandas as pd\n",
    "import numpy\n",
    "\n",
    "from pydqc import infer_schema, data_summary, data_compare, data_consist\n",
    "\n",
    "#import sys\n",
    "#sys.path.insert(0, '../pydqc')\n",
    "#import infer_schema, data_summary, data_compare, data_consist"
   ]
  },
  {
   "cell_type": "markdown",
   "metadata": {},
   "source": [
    "# load data\n",
    "Test data is from Kaggle competition: **Zillow Prize: Zillow’s Home Value Prediction (Zestimate)**  \n",
    "link: https://www.kaggle.com/c/zillow-prize-1  \n",
    "\n",
    "You need to download the following files, unzip and put them into the 'data' folder.  \n",
    "1. properties_2016.csv.zip  \n",
    "2. properties_2017.csv.zip  "
   ]
  },
  {
   "cell_type": "code",
   "execution_count": null,
   "metadata": {},
   "outputs": [],
   "source": [
    "%time data_2016 = pd.read_csv('data/properties_2016.csv')\n",
    "%time data_2017 = pd.read_csv('data/properties_2017.csv')"
   ]
  },
  {
   "cell_type": "code",
   "execution_count": null,
   "metadata": {},
   "outputs": [],
   "source": [
    "print(data_2016.shape)\n",
    "print(data_2017.shape)"
   ]
  },
  {
   "cell_type": "code",
   "execution_count": null,
   "metadata": {},
   "outputs": [],
   "source": [
    "data_2016.head()"
   ]
  },
  {
   "cell_type": "code",
   "execution_count": null,
   "metadata": {},
   "outputs": [],
   "source": [
    "data_2017.head()"
   ]
  },
  {
   "cell_type": "markdown",
   "metadata": {},
   "source": [
    "# infer schema"
   ]
  },
  {
   "cell_type": "markdown",
   "metadata": {},
   "source": [
    "### infer schema based on full set of data"
   ]
  },
  {
   "cell_type": "code",
   "execution_count": null,
   "metadata": {},
   "outputs": [],
   "source": [
    "%%time\n",
    "infer_schema.infer_schema(data=data_2016, fname='properties_2016', output_root='output/', \n",
    "                          sample_size=1.0, type_threshold=0.5, n_jobs=2, base_schema=None)"
   ]
  },
  {
   "cell_type": "markdown",
   "metadata": {},
   "source": [
    "### infer schema based on sample data"
   ]
  },
  {
   "cell_type": "code",
   "execution_count": null,
   "metadata": {},
   "outputs": [],
   "source": [
    "%%time\n",
    "infer_schema.infer_schema(data=data_2016, fname='properties_2016_sample', output_root='output/', \n",
    "                          sample_size=0.1, type_threshold=0.5, n_jobs=2, base_schema=None)"
   ]
  },
  {
   "cell_type": "markdown",
   "metadata": {},
   "source": [
    "### you should check the generated data schema \n",
    "and modify the data types if necessary. :)  \n",
    "You can do the modification based on the data dictionary **zillow_data_dictionary.xlsx**.  \n",
    "It's better to save the modified data schema with different name from the original one.  \n",
    "In this example, the modified data schema is saved as XXX_mdf.xlsx"
   ]
  },
  {
   "cell_type": "markdown",
   "metadata": {},
   "source": [
    "### infer schema based on base_schema\n",
    "Since we have already generated data schema for data_2016, we can use the **modified** data schema of data_2016 to infer the schema for data_2017. "
   ]
  },
  {
   "cell_type": "code",
   "execution_count": null,
   "metadata": {},
   "outputs": [],
   "source": [
    "data_2016_schema = pd.read_excel('output/data_schema_properties_2016_mdf.xlsx')"
   ]
  },
  {
   "cell_type": "code",
   "execution_count": null,
   "metadata": {},
   "outputs": [],
   "source": [
    "data_2016_schema.head()"
   ]
  },
  {
   "cell_type": "code",
   "execution_count": null,
   "metadata": {},
   "outputs": [],
   "source": [
    "%%time\n",
    "infer_schema.infer_schema(data=data_2017, fname='properties_2017_sample', output_root='output/', \n",
    "                          sample_size=0.1, type_threshold=0.5, n_jobs=2, base_schema=data_2016_schema)"
   ]
  },
  {
   "cell_type": "markdown",
   "metadata": {},
   "source": [
    "# data_summary\n",
    "generate data summary report based on the **modified** data schema"
   ]
  },
  {
   "cell_type": "code",
   "execution_count": null,
   "metadata": {},
   "outputs": [],
   "source": [
    "data_2016_schema = pd.read_excel('output/data_schema_properties_2016_mdf.xlsx')"
   ]
  },
  {
   "cell_type": "code",
   "execution_count": null,
   "metadata": {},
   "outputs": [],
   "source": [
    "data_2016_schema.head()"
   ]
  },
  {
   "cell_type": "code",
   "execution_count": null,
   "metadata": {},
   "outputs": [],
   "source": [
    "%%time\n",
    "data_summary.data_summary(table_schema=data_2016_schema, table=data_2016, fname='properties_2016', \n",
    "                          sample_size=1.0, output_root='output/', keep_images=False, n_jobs=2)"
   ]
  },
  {
   "cell_type": "markdown",
   "metadata": {},
   "source": [
    "### generate data summary notebook\n",
    "if you want to do further checking based on the basic methods provided by **data_summary**, you can generate a notebook."
   ]
  },
  {
   "cell_type": "code",
   "execution_count": null,
   "metadata": {},
   "outputs": [],
   "source": [
    "data_summary.data_summary_notebook(table_schema=data_2016_schema, table=data_2016, \n",
    "                                   fname='properties_2016', output_root='output/')"
   ]
  },
  {
   "cell_type": "markdown",
   "metadata": {},
   "source": [
    "# data compare"
   ]
  },
  {
   "cell_type": "code",
   "execution_count": null,
   "metadata": {},
   "outputs": [],
   "source": [
    "data_2017_schema = pd.read_excel('output/data_schema_properties_2017_sample_mdf.xlsx')"
   ]
  },
  {
   "cell_type": "code",
   "execution_count": null,
   "metadata": {},
   "outputs": [],
   "source": [
    "%%time\n",
    "data_compare.data_compare(table1=data_2016, table2=data_2017, schema1=data_2016_schema, schema2=data_2017_schema,\n",
    "                          fname='properties_2016', sample_size=1.0, output_root='output/', keep_images=False, n_jobs=2)"
   ]
  },
  {
   "cell_type": "markdown",
   "metadata": {},
   "source": [
    "### generate data compare notebook"
   ]
  },
  {
   "cell_type": "code",
   "execution_count": null,
   "metadata": {},
   "outputs": [],
   "source": [
    "data_compare.data_compare_notebook(table1=data_2016, table2=data_2017, schema1=data_2016_schema, schema2=data_2017_schema,\n",
    "                                   fname='properties_2016', output_root='output/')"
   ]
  },
  {
   "cell_type": "markdown",
   "metadata": {},
   "source": [
    "# data consist"
   ]
  },
  {
   "cell_type": "code",
   "execution_count": null,
   "metadata": {},
   "outputs": [],
   "source": [
    "%%time\n",
    "data_consist.data_consist(table1=data_2016, table2=data_2017, key1='parcelid', key2='parcelid',\n",
    "                          schema1=data_2016_schema, schema2=data_2017_schema,\n",
    "                          fname='properties_2016', sample_size=1.0, output_root='output/', keep_images=False, n_jobs=2)"
   ]
  },
  {
   "cell_type": "code",
   "execution_count": null,
   "metadata": {},
   "outputs": [],
   "source": [
    "data_consist.data_consist_notebook(table1=data_2016, table2=data_2017, key1='parcelid', key2='parcelid',\n",
    "                                   schema1=data_2016_schema, schema2=data_2017_schema,\n",
    "                                   fname='properties_2016', output_root='output/')"
   ]
  },
  {
   "cell_type": "code",
   "execution_count": null,
   "metadata": {},
   "outputs": [],
   "source": []
  },
  {
   "cell_type": "code",
   "execution_count": null,
   "metadata": {},
   "outputs": [],
   "source": []
  }
 ],
 "metadata": {
  "anaconda-cloud": {},
  "kernelspec": {
   "display_name": "Python 3.7.4 64-bit ('base': conda)",
   "language": "python",
   "name": "python37464bitbaseconda669fa3ff521d48a99dd565cad33117b0"
  },
  "language_info": {
   "codemirror_mode": {
    "name": "ipython",
    "version": 2
   },
   "file_extension": ".py",
   "mimetype": "text/x-python",
   "name": "python",
   "nbconvert_exporter": "python",
   "pygments_lexer": "ipython2",
   "version": "3.7.4-final"
  }
 },
 "nbformat": 4,
 "nbformat_minor": 2
}